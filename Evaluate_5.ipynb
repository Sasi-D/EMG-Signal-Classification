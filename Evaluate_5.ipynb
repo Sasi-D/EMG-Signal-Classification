{
 "cells": [
  {
   "cell_type": "code",
   "execution_count": 25,
   "id": "812d8c6c",
   "metadata": {
    "execution": {
     "iopub.execute_input": "2025-05-01T18:25:43.601881Z",
     "iopub.status.busy": "2025-05-01T18:25:43.601220Z",
     "iopub.status.idle": "2025-05-01T18:25:43.605713Z",
     "shell.execute_reply": "2025-05-01T18:25:43.604969Z",
     "shell.execute_reply.started": "2025-05-01T18:25:43.601847Z"
    }
   },
   "outputs": [],
   "source": [
    "import numpy as np\n",
    "from scipy.io import loadmat\n",
    "import torch\n",
    "from torch.utils.data import Dataset, DataLoader\n",
    "import torch.nn as nn\n",
    "import torch.nn.functional as F"
   ]
  },
  {
   "cell_type": "code",
   "execution_count": 26,
   "id": "9102fa7e",
   "metadata": {
    "execution": {
     "iopub.execute_input": "2025-05-01T18:25:43.607178Z",
     "iopub.status.busy": "2025-05-01T18:25:43.606988Z",
     "iopub.status.idle": "2025-05-01T18:25:43.627560Z",
     "shell.execute_reply": "2025-05-01T18:25:43.626937Z",
     "shell.execute_reply.started": "2025-05-01T18:25:43.607163Z"
    }
   },
   "outputs": [],
   "source": [
    "# ---------- Load Data ----------\n",
    "def load_featset(file_path):\n",
    "    mat_data = loadmat(file_path)\n",
    "    featset = mat_data['FeatSet']\n",
    "    samples = []\n",
    "    for i in range(featset.shape[0]):  # people\n",
    "        row = []\n",
    "        for j in range(featset.shape[1]):  # gestures\n",
    "            arr = featset[i, j]\n",
    "            row.append(arr)\n",
    "        samples.append(row)\n",
    "    return np.array(samples)  # shape: (N_people, 16, 233, 48)"
   ]
  },
  {
   "cell_type": "code",
   "execution_count": 27,
   "id": "a64d3ba7",
   "metadata": {
    "execution": {
     "iopub.execute_input": "2025-05-01T18:25:43.628644Z",
     "iopub.status.busy": "2025-05-01T18:25:43.628385Z",
     "iopub.status.idle": "2025-05-01T18:25:44.872781Z",
     "shell.execute_reply": "2025-05-01T18:25:44.872112Z",
     "shell.execute_reply.started": "2025-05-01T18:25:43.628629Z"
    }
   },
   "outputs": [
    {
     "name": "stdout",
     "output_type": "stream",
     "text": [
      "(41, 16, 233, 48)\n"
     ]
    }
   ],
   "source": [
    "# Load each session\n",
    "data_session1 = load_featset('Forearm_Session1.mat')\n",
    "data_session2 = load_featset('Forearm_Session2.mat')\n",
    "data_session3 = load_featset('Forearm_Session3.mat')  # test\n",
    "\n",
    "print(data_session1.shape)"
   ]
  },
  {
   "cell_type": "code",
   "execution_count": null,
   "id": "20d041a5",
   "metadata": {
    "execution": {
     "iopub.execute_input": "2025-05-01T18:25:44.874681Z",
     "iopub.status.busy": "2025-05-01T18:25:44.874480Z",
     "iopub.status.idle": "2025-05-01T18:25:44.918987Z",
     "shell.execute_reply": "2025-05-01T18:25:44.918448Z",
     "shell.execute_reply.started": "2025-05-01T18:25:44.874666Z"
    }
   },
   "outputs": [],
   "source": [
    "# Use sessions 1 & 2 for training\n",
    "train_data = np.concatenate((data_session1, data_session2), axis=0)\n",
    "# test_data = data_session3\n",
    "\n",
    "# Use all sessions for testing\n",
    "test_data = np.concatenate((data_session1, data_session2, data_session3), axis=0)  # Duplicate for testing"
   ]
  },
  {
   "cell_type": "code",
   "execution_count": 29,
   "id": "46ab4c75",
   "metadata": {
    "execution": {
     "iopub.execute_input": "2025-05-01T18:25:44.919819Z",
     "iopub.status.busy": "2025-05-01T18:25:44.919645Z",
     "iopub.status.idle": "2025-05-01T18:25:44.924163Z",
     "shell.execute_reply": "2025-05-01T18:25:44.923647Z",
     "shell.execute_reply.started": "2025-05-01T18:25:44.919805Z"
    }
   },
   "outputs": [],
   "source": [
    "# ---------- Dataset ----------\n",
    "def prepare_data(data_tensor):\n",
    "    \"\"\"Flatten [subjects, gestures, 233, 48] → list of (48, 233), label=gesture\"\"\"\n",
    "    subjects, gestures, time_steps, features = data_tensor.shape\n",
    "    data = []\n",
    "    for subj in range(subjects):\n",
    "        for gesture in range(gestures):\n",
    "            signal = data_tensor[subj, gesture]  # [233, 48]\n",
    "            signal = signal.T  # → [48, 233]\n",
    "            label = gesture\n",
    "            data.append((signal, label))\n",
    "    return data\n"
   ]
  },
  {
   "cell_type": "code",
   "execution_count": 30,
   "id": "98ec808b",
   "metadata": {
    "execution": {
     "iopub.execute_input": "2025-05-01T18:25:44.924923Z",
     "iopub.status.busy": "2025-05-01T18:25:44.924737Z",
     "iopub.status.idle": "2025-05-01T18:25:44.937906Z",
     "shell.execute_reply": "2025-05-01T18:25:44.937251Z",
     "shell.execute_reply.started": "2025-05-01T18:25:44.924910Z"
    }
   },
   "outputs": [],
   "source": [
    "# Prepare datasets\n",
    "train_dataset = prepare_data(train_data)\n",
    "test_dataset = prepare_data(test_data)"
   ]
  },
  {
   "cell_type": "code",
   "execution_count": 31,
   "id": "8f2e7350",
   "metadata": {},
   "outputs": [],
   "source": [
    "# Mapping from old labels to new labels\n",
    "label_map = {7: 0, 8: 1, 9: 2, 14: 3, 15: 4}\n",
    "\n",
    "# Filter and relabel the dataset\n",
    "filtered_train_dataset = [(signal, label_map[label]) for signal, label in train_dataset if label in label_map]\n",
    "filtered_test_dataset = [(signal, label_map[label]) for signal, label in test_dataset if label in label_map]\n",
    "\n",
    "train_dataset = filtered_train_dataset\n",
    "test_dataset = filtered_test_dataset\n"
   ]
  },
  {
   "cell_type": "code",
   "execution_count": 32,
   "id": "f54d4ece",
   "metadata": {},
   "outputs": [
    {
     "name": "stdout",
     "output_type": "stream",
     "text": [
      "(123, 16, 233, 48)\n"
     ]
    }
   ],
   "source": [
    "print(test_data.shape)"
   ]
  },
  {
   "cell_type": "code",
   "execution_count": 33,
   "id": "9cf1c1d5",
   "metadata": {
    "execution": {
     "iopub.execute_input": "2025-05-01T18:25:44.938734Z",
     "iopub.status.busy": "2025-05-01T18:25:44.938540Z",
     "iopub.status.idle": "2025-05-01T18:25:44.956044Z",
     "shell.execute_reply": "2025-05-01T18:25:44.955275Z",
     "shell.execute_reply.started": "2025-05-01T18:25:44.938720Z"
    }
   },
   "outputs": [],
   "source": [
    "from torch.utils.data import Dataset, DataLoader\n",
    "\n",
    "class EMGGestureDataset(Dataset):\n",
    "    def __init__(self, data):\n",
    "        self.data = data\n",
    "\n",
    "    def __len__(self):\n",
    "        return len(self.data)\n",
    "\n",
    "    def __getitem__(self, idx):\n",
    "        x, y = self.data[idx]\n",
    "        return torch.tensor(x, dtype=torch.float32), torch.tensor(y, dtype=torch.long)\n",
    "\n",
    "train_loader = DataLoader(EMGGestureDataset(train_dataset), batch_size=32, shuffle=True)\n",
    "test_loader = DataLoader(EMGGestureDataset(test_dataset), batch_size=32)\n",
    "\n",
    "\n"
   ]
  },
  {
   "cell_type": "code",
   "execution_count": 34,
   "id": "aff5cb7b",
   "metadata": {},
   "outputs": [],
   "source": [
    "class DilatedCNN1D_Temporal(nn.Module):\n",
    "    def __init__(self, in_channels=48, num_classes=16, dropout_rate=0.3):\n",
    "        super(DilatedCNN1D_Temporal, self).__init__()\n",
    "        \n",
    "        self.conv1 = nn.Conv1d(in_channels, 64, kernel_size=3, dilation=1, padding=1)\n",
    "        self.bn1 = nn.BatchNorm1d(64)\n",
    "        self.dropout1 = nn.Dropout1d(dropout_rate)  # Add dropout after first conv\n",
    "        \n",
    "        self.conv2 = nn.Conv1d(64, 128, kernel_size=3, dilation=2, padding=2)\n",
    "        self.bn2 = nn.BatchNorm1d(128)\n",
    "        self.dropout2 = nn.Dropout1d(dropout_rate)  # Add dropout after second conv\n",
    "        \n",
    "        self.conv3 = nn.Conv1d(128, 256, kernel_size=3, dilation=4, padding=4)\n",
    "        self.bn3 = nn.BatchNorm1d(256)\n",
    "        self.dropout3 = nn.Dropout1d(dropout_rate)  # Add dropout after third conv\n",
    "        \n",
    "        self.pool = nn.AdaptiveAvgPool1d(1)\n",
    "        self.fc_dropout = nn.Dropout(dropout_rate)  # Add dropout before final FC layer\n",
    "        self.fc = nn.Linear(256, num_classes)\n",
    "    \n",
    "    def forward(self, x):\n",
    "        # x: [batch_size, channels=48, time_steps=233]\n",
    "        x = F.relu(self.bn1(self.conv1(x)))\n",
    "        x = self.dropout1(x)\n",
    "        \n",
    "        x = F.relu(self.bn2(self.conv2(x)))\n",
    "        x = self.dropout2(x)\n",
    "        \n",
    "        x = F.relu(self.bn3(self.conv3(x)))\n",
    "        x = self.dropout3(x)\n",
    "        \n",
    "        x = self.pool(x).squeeze(-1)  # shape: [batch, 256]\n",
    "        x = self.fc_dropout(x)\n",
    "        return self.fc(x)\n"
   ]
  },
  {
   "cell_type": "code",
   "execution_count": 35,
   "id": "6d9cb873",
   "metadata": {},
   "outputs": [],
   "source": [
    "all_true_labels = []\n",
    "all_pred_labels = []\n",
    "\n",
    "\n",
    "def evaluate(model, data_loader, criterion, device):\n",
    "    global all_true_labels, all_pred_labels\n",
    "    all_true_labels = []\n",
    "    all_pred_labels = []\n",
    "\n",
    "    model.eval()\n",
    "    total_loss = 0\n",
    "    correct = 0\n",
    "    total = 0\n",
    "\n",
    "    with torch.no_grad():\n",
    "        for X_batch, y_batch in data_loader:\n",
    "            X_batch, y_batch = X_batch.to(device), y_batch.to(device)\n",
    "            out = model(X_batch)\n",
    "            loss = criterion(out, y_batch)\n",
    "            total_loss += loss.item()\n",
    "\n",
    "            _, preds = torch.max(out, 1)\n",
    "            correct += (preds == y_batch).sum().item()\n",
    "            total += y_batch.size(0)\n",
    "\n",
    "            all_true_labels.extend(y_batch.cpu().numpy())\n",
    "            all_pred_labels.extend(preds.cpu().numpy())\n",
    "\n",
    "    return total_loss / len(data_loader), 100 * correct / total"
   ]
  },
  {
   "cell_type": "code",
   "execution_count": 36,
   "id": "eee461e3",
   "metadata": {},
   "outputs": [],
   "source": [
    "from sklearn.metrics import confusion_matrix, ConfusionMatrixDisplay\n",
    "import matplotlib.pyplot as plt\n",
    "\n",
    "def print_confusion_matrix():\n",
    "    global all_true_labels, all_pred_labels\n",
    "    cm = confusion_matrix(all_true_labels, all_pred_labels)\n",
    "    disp = ConfusionMatrixDisplay(confusion_matrix=cm)\n",
    "    disp.plot(cmap=plt.cm.Blues)\n",
    "    plt.title(\"Confusion Matrix\")\n",
    "    plt.show()\n"
   ]
  },
  {
   "cell_type": "code",
   "execution_count": 37,
   "id": "2f2fa32c",
   "metadata": {
    "execution": {
     "iopub.execute_input": "2025-05-01T18:25:45.005860Z",
     "iopub.status.busy": "2025-05-01T18:25:45.005629Z",
     "iopub.status.idle": "2025-05-01T18:35:53.805828Z",
     "shell.execute_reply": "2025-05-01T18:35:53.805072Z",
     "shell.execute_reply.started": "2025-05-01T18:25:45.005838Z"
    }
   },
   "outputs": [],
   "source": [
    "from torch.serialization import add_safe_globals\n",
    "from sklearn.metrics import precision_score, recall_score, f1_score, accuracy_score\n",
    "\n",
    "# Register the model class\n",
    "add_safe_globals([DilatedCNN1D_Temporal])\n",
    "\n",
    "# Load the model on CPU\n",
    "model = torch.load(\"5_labels_92.pth\", weights_only=False, map_location=torch.device('cpu'))\n",
    "model.eval()\n",
    "\n",
    "device = torch.device(\"cuda\" if torch.cuda.is_available() else \"cpu\")\n",
    "criterion = nn.CrossEntropyLoss()\n",
    "model.to(device)\n",
    "\n",
    "test_loss, accuracy = evaluate(model, test_loader, criterion, device)"
   ]
  },
  {
   "cell_type": "code",
   "execution_count": 38,
   "id": "87df9b09",
   "metadata": {},
   "outputs": [
    {
     "name": "stdout",
     "output_type": "stream",
     "text": [
      "Test Loss: 0.1017\n",
      "Accuracy: 97.24%\n",
      "Precision: 0.9725\n",
      "Recall: 0.9724\n",
      "F1 Score: 0.9723\n"
     ]
    }
   ],
   "source": [
    "# Compute additional metrics (macro-averaged for multi-class)\n",
    "precision = precision_score(all_true_labels, all_pred_labels, average='macro', zero_division=0)\n",
    "recall = recall_score(all_true_labels, all_pred_labels, average='macro', zero_division=0)\n",
    "f1 = f1_score(all_true_labels, all_pred_labels, average='macro', zero_division=0)\n",
    "\n",
    "# Print results\n",
    "print(f\"Test Loss: {test_loss:.4f}\")\n",
    "print(f\"Accuracy: {accuracy:.2f}%\")\n",
    "print(f\"Precision: {precision:.4f}\")\n",
    "print(f\"Recall: {recall:.4f}\")\n",
    "print(f\"F1 Score: {f1:.4f}\")"
   ]
  },
  {
   "cell_type": "code",
   "execution_count": 39,
   "id": "abd6dd99",
   "metadata": {},
   "outputs": [
    {
     "data": {
      "image/png": "[encoded data removed]",
      "text/plain": [
       "<Figure size 640x480 with 2 Axes>"
      ]
     },
     "metadata": {},
     "output_type": "display_data"
    }
   ],
   "source": [
    "print_confusion_matrix()"
   ]
  }
 ],
 "metadata": {
  "kaggle": {
   "accelerator": "gpu",
   "dataSources": [
    {
     "datasetId": 7302372,
     "sourceId": 11638069,
     "sourceType": "datasetVersion"
    }
   ],
   "dockerImageVersionId": 31011,
   "isGpuEnabled": true,
   "isInternetEnabled": true,
   "language": "python",
   "sourceType": "notebook"
  },
  "kernelspec": {
   "display_name": "Python 3",
   "language": "python",
   "name": "python3"
  },
  "language_info": {
   "codemirror_mode": {
    "name": "ipython",
    "version": 3
   },
   "file_extension": ".py",
   "mimetype": "text/x-python",
   "name": "python",
   "nbconvert_exporter": "python",
   "pygments_lexer": "ipython3",
   "version": "3.11.4"
  }
 },
 "nbformat": 4,
 "nbformat_minor": 5
}
